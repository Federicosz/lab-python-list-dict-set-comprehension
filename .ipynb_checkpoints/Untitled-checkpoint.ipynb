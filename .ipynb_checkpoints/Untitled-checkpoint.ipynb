{
 "cells": [
  {
   "cell_type": "code",
   "execution_count": 1,
   "id": "fd6ce4a4",
   "metadata": {},
   "outputs": [],
   "source": [
    "composers = [\n",
    "    \"Mozart\",\n",
    "    \"Beethoven\",\n",
    "    \"Bach\",\n",
    "    \"Tchaikovsky\",\n",
    "    \"Brahms\",\n",
    "    \"Schubert\",\n",
    "    \"Vivaldi\",\n",
    "    \"Verdi\",\n",
    "    \"Debussy\"\n",
    "]"
   ]
  },
  {
   "cell_type": "code",
   "execution_count": 7,
   "id": "937bd29e",
   "metadata": {},
   "outputs": [
    {
     "data": {
      "text/plain": [
       "False"
      ]
     },
     "execution_count": 7,
     "metadata": {},
     "output_type": "execute_result"
    }
   ],
   "source": [
    "composers[0].startswith('B')"
   ]
  },
  {
   "cell_type": "code",
   "execution_count": 13,
   "id": "fb8091fb",
   "metadata": {},
   "outputs": [
    {
     "data": {
      "text/plain": [
       "False"
      ]
     },
     "execution_count": 13,
     "metadata": {},
     "output_type": "execute_result"
    }
   ],
   "source": [
    "(lambda c:c[0].startswith('B') and len(c)>7)(\"Bach\")"
   ]
  },
  {
   "cell_type": "code",
   "execution_count": 20,
   "id": "12a283f8",
   "metadata": {},
   "outputs": [
    {
     "data": {
      "text/plain": [
       "['Beethoven']"
      ]
     },
     "execution_count": 20,
     "metadata": {},
     "output_type": "execute_result"
    }
   ],
   "source": [
    "list(filter(lambda c:c.startswith('B') and len(c)>7,composers))\n"
   ]
  },
  {
   "cell_type": "code",
   "execution_count": null,
   "id": "113d53ca",
   "metadata": {},
   "outputs": [],
   "source": []
  }
 ],
 "metadata": {
  "kernelspec": {
   "display_name": "Python 3 (ipykernel)",
   "language": "python",
   "name": "python3"
  },
  "language_info": {
   "codemirror_mode": {
    "name": "ipython",
    "version": 3
   },
   "file_extension": ".py",
   "mimetype": "text/x-python",
   "name": "python",
   "nbconvert_exporter": "python",
   "pygments_lexer": "ipython3",
   "version": "3.11.5"
  }
 },
 "nbformat": 4,
 "nbformat_minor": 5
}
