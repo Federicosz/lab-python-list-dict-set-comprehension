{
 "cells": [
  {
   "cell_type": "markdown",
   "id": "25d7736c-ba17-4aff-b6bb-66eba20fbf4e",
   "metadata": {},
   "source": [
    "# Lab | List, Dict and Set Comprehension"
   ]
  },
  {
   "cell_type": "markdown",
   "id": "7dd3cbde-675a-4b81-92c3-f728846dbe06",
   "metadata": {},
   "source": [
    "## Exercise: Managing Customer Orders Optimized with Comprehension"
   ]
  },
  {
   "cell_type": "markdown",
   "id": "5d500160-2fb7-4777-b5e4-09d45ebaf328",
   "metadata": {},
   "source": [
    "In the previous exercise, you developed a program to manage customer orders and inventory. Now, let's take it a step further and incorporate comprehension into your code.\n",
    "\n",
    "Follow the steps below to complete the exercise:\n",
    "\n",
    "1. Review your code from the previous exercise and identify areas where you can apply comprehension to simplify and streamline your code. \n",
    "\n",
    "    - *Hint: Apply it to initialize inventory, updating the inventory and printing the updated inventory.*\n",
    "    \n",
    "    - For example, in initializing the inventory, we could have:\n",
    "    \n",
    "        ```python\n",
    "        def initialize_inventory(products):\n",
    "            inventory = {product: int(input(f\"Enter the quantity of {product}s available: \")) for product in products}\n",
    "            return inventory\n",
    "\n",
    "        ```\n",
    "<br>\n",
    "    \n",
    "    \n",
    "2. Modify the function get_customer_orders so it prompts the user to enter the number of customer orders and gathers the product names using a loop and user input. Use comprehension.\n",
    "\n",
    "3. Add a new function to calculate the total price of the customer order. For each product in customer_orders, prompt the user to enter the price of that product. Use comprehension to calculate the total price. Note: assume that the user can only have 1 unit of each product.\n",
    "\n",
    "4. Modify the update_inventory function to remove the product from the inventory if its quantity becomes zero after fulfilling the customer orders. Use comprehension to filter out the products with a quantity of zero from the inventory.\n",
    "\n",
    "5. Print the total price of the customer order.\n",
    "\n",
    "Your code should produce output similar to the following:\n",
    "\n",
    "```python\n",
    "Enter the quantity of t-shirts available:  5\n",
    "Enter the quantity of mugs available:  4\n",
    "Enter the quantity of hats available:  3\n",
    "Enter the quantity of books available:  2\n",
    "Enter the quantity of keychains available:  1\n",
    "Enter the number of customer orders:  2\n",
    "Enter the name of a product that a customer wants to order:  hat\n",
    "Enter the name of a product that a customer wants to order:  keychain\n",
    "\n",
    "Order Statistics:\n",
    "Total Products Ordered: 2\n",
    "Percentage of Unique Products Ordered: 40.0\n",
    "\n",
    "Updated Inventory:\n",
    "t-shirt: 5\n",
    "mug: 4\n",
    "hat: 2\n",
    "book: 2\n",
    "Enter the price of keychain:  5\n",
    "Enter the price of hat:  10\n",
    "Total Price: 15.0\n",
    "\n",
    "```\n"
   ]
  },
  {
   "cell_type": "code",
   "execution_count": 24,
   "id": "fd9f5c99",
   "metadata": {},
   "outputs": [],
   "source": [
    "def initialize_inventory(products):\n",
    "    \"\"\"initializing the inventory dictionary using a loop and user input.\n",
    "    \"\"\"\n",
    "    inventory={item:int(input(f'enter the quantity of {item}:')) for item in products}                 \n",
    "      \n",
    "    return inventory\n",
    "\n",
    "def get_customer_orders(products):\n",
    "    \"\"\"The function return the customer_orders.\n",
    "    \"\"\" \n",
    "    customer_orders= {item: int(input(f'how many {item} would you like to buy ? ')) for item in products}\n",
    "    return customer_orders\n",
    "\n",
    "def total_price_order(customer_orders):\n",
    "    \"\"\"calculate the total price od the order\"\"\"\n",
    "    price = {order: int(input(f'What is the price of {order}: ')) for order in products}\n",
    "    list_price=list(price.values())\n",
    "    quantity=list(customer_orders.values())\n",
    "    sub_total = [p*q for p, q in zip(list_price, quantity)]\n",
    "    total_price= sum(sub_total)\n",
    "    return total_price\n",
    "\n",
    "def update_inventory(customer_orders, inventory):\n",
    "    \"\"\" This function update the inventory dictionary based on the customer orders.\n",
    "    \"\"\"\n",
    "    inventory_local = inventory.copy()\n",
    "    [inventory_local.update({product:inventory_local[product]-customer_orders[product]}) if inventory_local[product]-customer_orders[product]>0 else inventory_local.pop(product)\n",
    "                 for product in customer_orders]\n",
    "    return inventory_local\n",
    "\n",
    "def calculate_order_statistics (customer_orders, inventory):\n",
    "    \"\"\" calculated the order statistics (total products ordered, and percentage of unique products ordered).\n",
    "    The function return these values.\n",
    "    \"\"\"\n",
    "    \n",
    "    total_items=0\n",
    "    total_products=0\n",
    "    for key,value in customer_orders.items():\n",
    "        total_items+=customer_orders[key]\n",
    "    for key,value in inventory.items():\n",
    "        total_products+=inventory[key]\n",
    "    porcentage_products=(total_items/total_products*100)\n",
    "    unique_products = len(customer_orders) \n",
    "    return total_items, porcentage_products, unique_products \n",
    "\n",
    "def print_order_statistics (order_statistics):\n",
    "    \"\"\"printing the order statistics.\"\"\"\n",
    "    print( f'''they order a total of {order_statistics[0]} and order {order_statistics[2]} different products.\n",
    "    Which is {order_statistics[1]}% of the products.''')\n",
    "\n",
    "def print_updated_inventory(inventory):\n",
    "    \"\"\"Inside the function, implement the code for printing the updated inventory.\"\"\"\n",
    "    print(f'The inventory after customer purchase is :{inventory}')"
   ]
  },
  {
   "cell_type": "code",
   "execution_count": 59,
   "id": "c87194e9",
   "metadata": {},
   "outputs": [
    {
     "name": "stdout",
     "output_type": "stream",
     "text": [
      "enter the quantity of t-shirt:10\n",
      "enter the quantity of mug:10\n",
      "How many units of t-shirt do you want to order: 5\n",
      "How many units of mug do you want to order: 5\n",
      "What is the price of t-shirt: 10\n",
      "What is the price of mug: 10\n",
      "they order a total of 10 and order 2 different products.\n",
      "    Which is 50.0% of the products.\n",
      "The inventory after customer purchase is :{'t-shirt': 5, 'mug': 5}\n",
      "total price was (100, {'t-shirt': 10, 'mug': 10})\n"
     ]
    }
   ],
   "source": [
    "products = [\"t-shirt\", \"mug\"]#,\"hat\", \"book\", \"keychain\" ]\n",
    "inventory = initialize_inventory(products)\n",
    "customer_orders = get_customer_orders(products)\n",
    "price= total_price_order(customer_orders)\n",
    "order_statistics = calculate_order_statistics(customer_orders, inventory)\n",
    "inventory = update_inventory(customer_orders, inventory)\n",
    "print_order_statistics(order_statistics)\n",
    "print_updated_inventory(inventory)\n",
    "print(f'total price was {price}')"
   ]
  }
 ],
 "metadata": {
  "kernelspec": {
   "display_name": "Python 3 (ipykernel)",
   "language": "python",
   "name": "python3"
  },
  "language_info": {
   "codemirror_mode": {
    "name": "ipython",
    "version": 3
   },
   "file_extension": ".py",
   "mimetype": "text/x-python",
   "name": "python",
   "nbconvert_exporter": "python",
   "pygments_lexer": "ipython3",
   "version": "3.11.5"
  }
 },
 "nbformat": 4,
 "nbformat_minor": 5
}
